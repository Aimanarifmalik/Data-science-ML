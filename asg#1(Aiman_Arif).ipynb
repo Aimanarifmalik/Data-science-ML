{
 "cells": [
  {
   "cell_type": "code",
   "execution_count": 2,
   "metadata": {},
   "outputs": [
    {
     "name": "stdout",
     "output_type": "stream",
     "text": [
      "aiman is not a palindrome.\n"
     ]
    }
   ],
   "source": [
    "# Function to check if a number is a palindrome\n",
    "def is_palindrome(number):\n",
    "   \n",
    "    org_num=str(number)# Convert the number to a string\n",
    "    reversed_str= \"\"# Initialize an empty string to store the reversed number\n",
    "    \n",
    "    # Loop through the original number string from the last character to the first\n",
    "    for i in range(len(org_num) - 1, -1, -1):\n",
    "        # Add each character to the reversed string\n",
    "        reversed_str+=org_num[i]\n",
    "    \n",
    "    # Compare the original number string with the reversed string\n",
    "    if org_num == reversed_str:\n",
    "        return True\n",
    "    else:\n",
    "        return False\n",
    "\n",
    "\n",
    "\n",
    "\n",
    "user_input=input(\"Enter a number or string: \")\n",
    "# Check if the input is a palindrome\n",
    "if is_palindrome(user_input):\n",
    "    print(f\"{user_input} is a palindrome.\")\n",
    "else:\n",
    "    print(f\"{user_input} is not a palindrome.\")\n"
   ]
  },
  {
   "cell_type": "code",
   "execution_count": 1,
   "metadata": {},
   "outputs": [
    {
     "name": "stdout",
     "output_type": "stream",
     "text": [
      "Invalid input. Please enter a valid integer.\n",
      "Invalid input. Please enter a valid integer.\n"
     ]
    }
   ],
   "source": [
    "def factorial(n):\n",
    "    # Base case: factorial of 0 is 1\n",
    "    if n==0:\n",
    "        return 1\n",
    "    # Recursion\n",
    "    else:\n",
    "        return n * factorial(n - 1)\n",
    "\n",
    "\n",
    "while True:\n",
    "    try:\n",
    "        num=int(input(\"Enter a positive integer: \"))\n",
    "        if num<0:\n",
    "            print(\"Please enter a positive integer.\")\n",
    "        else:\n",
    "            break\n",
    "    except ValueError:\n",
    "        print(\"Invalid input. Please enter a valid integer.\")\n",
    "\n",
    "# Calculate factorial using the defined function\n",
    "result=factorial(num)\n",
    "\n",
    "\n",
    "print(f\"The factorial of {num} is: {result}\")\n"
   ]
  },
  {
   "cell_type": "code",
   "execution_count": null,
   "metadata": {},
   "outputs": [],
   "source": [
    "def calculate_word_lengths(sentence):\n",
    "    word_lengths={}  # Dictionary to store word lengths\n",
    "    current_length=0  # Variable to keep track of current word's length\n",
    "    is_inside_word=False  # Flag to indicate if currently inside a word\n",
    "\n",
    "    # Iterate through each character in the sentence\n",
    "    for char in sentence:\n",
    "        if char.isalnum():  # Check if character is alphanumeric (part of a word)\n",
    "            if not is_inside_word:\n",
    "                is_inside_word=True\n",
    "                current_length=1  # Start counting new word's length\n",
    "            else:\n",
    "                current_length+=1  # Increment length of current word\n",
    "        else:\n",
    "            if is_inside_word:\n",
    "                word=sentence[:current_length]  # Extract the word\n",
    "                word_lengths[word]=current_length  # Store word and its length\n",
    "                is_inside_word=False  # Reset flag\n",
    "            current_length=0  # Reset current word length\n",
    "\n",
    " \n",
    "    if is_inside_word:\n",
    "        word=sentence[:current_length]\n",
    "        word_lengths[word]=current_length\n",
    "\n",
    "    return word_lengths\n",
    "\n",
    "\n",
    "sentence=\"Hi jack this is test.\"\n",
    "result=calculate_word_lengths(sentence)\n",
    "print(result)\n"
   ]
  }
 ],
 "metadata": {
  "kernelspec": {
   "display_name": "Python 3",
   "language": "python",
   "name": "python3"
  },
  "language_info": {
   "codemirror_mode": {
    "name": "ipython",
    "version": 3
   },
   "file_extension": ".py",
   "mimetype": "text/x-python",
   "name": "python",
   "nbconvert_exporter": "python",
   "pygments_lexer": "ipython3",
   "version": "3.12.1"
  }
 },
 "nbformat": 4,
 "nbformat_minor": 2
}
